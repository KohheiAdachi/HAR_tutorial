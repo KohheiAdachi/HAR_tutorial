{
 "cells": [
  {
   "cell_type": "code",
   "execution_count": 1,
   "metadata": {
    "execution": {
     "iopub.execute_input": "2020-10-02T09:49:45.636227Z",
     "iopub.status.busy": "2020-10-02T09:49:45.634881Z",
     "iopub.status.idle": "2020-10-02T09:49:46.053479Z",
     "shell.execute_reply": "2020-10-02T09:49:46.054392Z"
    }
   },
   "outputs": [],
   "source": [
    "import pandas as pd\n",
    "import numpy as np\n",
    "from glob import glob\n",
    "import os"
   ]
  },
  {
   "cell_type": "code",
   "execution_count": 2,
   "metadata": {
    "execution": {
     "iopub.execute_input": "2020-10-02T09:49:46.060408Z",
     "iopub.status.busy": "2020-10-02T09:49:46.059500Z",
     "iopub.status.idle": "2020-10-02T09:49:46.066330Z",
     "shell.execute_reply": "2020-10-02T09:49:46.065072Z"
    }
   },
   "outputs": [],
   "source": [
    "df_activity = pd.read_csv(\"activities.csv\")"
   ]
  },
  {
   "cell_type": "code",
   "execution_count": 3,
   "metadata": {
    "execution": {
     "iopub.execute_input": "2020-10-02T09:49:46.073191Z",
     "iopub.status.busy": "2020-10-02T09:49:46.072305Z",
     "iopub.status.idle": "2020-10-02T09:49:46.074553Z",
     "shell.execute_reply": "2020-10-02T09:49:46.075437Z"
    }
   },
   "outputs": [],
   "source": [
    "def handle_missing_values(df):\n",
    "    df['x']=df['x'].replace(0, np.nan)\n",
    "    df['y']=df['y'].replace(0, np.nan)\n",
    "    df['z']=df['z'].replace(0, np.nan)\n",
    "    return df"
   ]
  },
  {
   "cell_type": "code",
   "execution_count": 4,
   "metadata": {
    "execution": {
     "iopub.execute_input": "2020-10-02T09:49:46.082832Z",
     "iopub.status.busy": "2020-10-02T09:49:46.081558Z",
     "iopub.status.idle": "2020-10-02T09:49:46.084115Z",
     "shell.execute_reply": "2020-10-02T09:49:46.085012Z"
    }
   },
   "outputs": [],
   "source": [
    "def segmentation(x_data,y,overlap_rate,time_window):\n",
    "    \n",
    "    seg_data = []\n",
    "    overlap = int((1 - overlap_rate)*time_window)\n",
    "    y_segmented_list = []\n",
    "    \n",
    "    for i in range(0,x_data.shape[0],overlap):\n",
    "        seg_data.append(x_data[i:i+time_window])\n",
    "        y_segmented_list.append(y)\n",
    "\n",
    "    return seg_data,y_segmented_list"
   ]
  },
  {
   "cell_type": "code",
   "execution_count": 5,
   "metadata": {
    "execution": {
     "iopub.execute_input": "2020-10-02T09:49:46.092004Z",
     "iopub.status.busy": "2020-10-02T09:49:46.091064Z",
     "iopub.status.idle": "2020-10-02T09:49:46.093470Z",
     "shell.execute_reply": "2020-10-02T09:49:46.094359Z"
    }
   },
   "outputs": [],
   "source": [
    "def load_data(csv_file):\n",
    "\n",
    "    y_list = []\n",
    "    x_data_list = []\n",
    "\n",
    "    csv_df = pd.read_csv(csv_file)\n",
    "    csv_df = handle_missing_values(csv_df)\n",
    "    csv_df.dropna(inplace=True)\n",
    "    x_data = csv_df.values\n",
    "    act_id = get_act_id(int(os.path.splitext(os.path.basename(csv_file))[0].replace(\"segment\",\"\")))\n",
    "    \n",
    "    return x_data,act_id"
   ]
  },
  {
   "cell_type": "code",
   "execution_count": 6,
   "metadata": {
    "execution": {
     "iopub.execute_input": "2020-10-02T09:49:46.100363Z",
     "iopub.status.busy": "2020-10-02T09:49:46.099356Z",
     "iopub.status.idle": "2020-10-02T09:49:46.101879Z",
     "shell.execute_reply": "2020-10-02T09:49:46.102798Z"
    }
   },
   "outputs": [],
   "source": [
    "def get_act_id(seg_id):\n",
    "    seg = df_activity[df_activity[\"segment_id\"]==seg_id]\n",
    "    activity_id = seg[\"activity_id\"].values\n",
    "    return int(activity_id)"
   ]
  },
  {
   "cell_type": "code",
   "execution_count": 7,
   "metadata": {
    "execution": {
     "iopub.execute_input": "2020-10-02T09:49:46.107437Z",
     "iopub.status.busy": "2020-10-02T09:49:46.106582Z",
     "iopub.status.idle": "2020-10-02T09:49:46.110320Z",
     "shell.execute_reply": "2020-10-02T09:49:46.111217Z"
    }
   },
   "outputs": [],
   "source": [
    "csv_files = glob(\"train/*\")"
   ]
  },
  {
   "cell_type": "code",
   "execution_count": 8,
   "metadata": {
    "execution": {
     "iopub.execute_input": "2020-10-02T09:49:46.117234Z",
     "iopub.status.busy": "2020-10-02T09:49:46.116082Z",
     "iopub.status.idle": "2020-10-02T09:49:46.127812Z",
     "shell.execute_reply": "2020-10-02T09:49:46.126831Z"
    }
   },
   "outputs": [],
   "source": [
    "x_data,y = load_data(csv_files[0])"
   ]
  },
  {
   "cell_type": "markdown",
   "metadata": {},
   "source": [
    "# time_window = 10, overlap_rate=50%"
   ]
  },
  {
   "cell_type": "code",
   "execution_count": 9,
   "metadata": {
    "execution": {
     "iopub.execute_input": "2020-10-02T09:49:46.133705Z",
     "iopub.status.busy": "2020-10-02T09:49:46.132616Z",
     "iopub.status.idle": "2020-10-02T09:49:46.135295Z",
     "shell.execute_reply": "2020-10-02T09:49:46.136217Z"
    }
   },
   "outputs": [],
   "source": [
    "seg_data_list,y_seg_list = segmentation(x_data,y,overlap_rate=0.5,time_window=10)"
   ]
  },
  {
   "cell_type": "code",
   "execution_count": 10,
   "metadata": {
    "execution": {
     "iopub.execute_input": "2020-10-02T09:49:46.150028Z",
     "iopub.status.busy": "2020-10-02T09:49:46.148998Z",
     "iopub.status.idle": "2020-10-02T09:49:46.153577Z",
     "shell.execute_reply": "2020-10-02T09:49:46.154380Z"
    }
   },
   "outputs": [
    {
     "data": {
      "text/plain": [
       "23"
      ]
     },
     "execution_count": 1,
     "metadata": {},
     "output_type": "execute_result"
    }
   ],
   "source": [
    "len(seg_data_list)"
   ]
  },
  {
   "cell_type": "markdown",
   "metadata": {},
   "source": [
    "# time_window = 10, overlap_rate=0%"
   ]
  },
  {
   "cell_type": "code",
   "execution_count": 11,
   "metadata": {
    "execution": {
     "iopub.execute_input": "2020-10-02T09:49:46.160732Z",
     "iopub.status.busy": "2020-10-02T09:49:46.159054Z",
     "iopub.status.idle": "2020-10-02T09:49:46.162140Z",
     "shell.execute_reply": "2020-10-02T09:49:46.163126Z"
    }
   },
   "outputs": [],
   "source": [
    "seg_data_list,y_seg_list = segmentation(x_data,y,overlap_rate=0,time_window=10)"
   ]
  },
  {
   "cell_type": "code",
   "execution_count": 12,
   "metadata": {
    "execution": {
     "iopub.execute_input": "2020-10-02T09:49:46.168656Z",
     "iopub.status.busy": "2020-10-02T09:49:46.167614Z",
     "iopub.status.idle": "2020-10-02T09:49:46.171552Z",
     "shell.execute_reply": "2020-10-02T09:49:46.172537Z"
    }
   },
   "outputs": [
    {
     "data": {
      "text/plain": [
       "12"
      ]
     },
     "execution_count": 1,
     "metadata": {},
     "output_type": "execute_result"
    }
   ],
   "source": [
    "len(seg_data_list)"
   ]
  },
  {
   "cell_type": "code",
   "execution_count": 13,
   "metadata": {},
   "outputs": [],
   "source": []
  }
 ],
 "metadata": {
  "kernelspec": {
   "display_name": "Python 3",
   "language": "python",
   "name": "python3"
  },
  "language_info": {
   "codemirror_mode": {
    "name": "ipython",
    "version": 3
   },
   "file_extension": ".py",
   "mimetype": "text/x-python",
   "name": "python",
   "nbconvert_exporter": "python",
   "pygments_lexer": "ipython3",
   "version": "3.7.2"
  }
 },
 "nbformat": 4,
 "nbformat_minor": 2
}
