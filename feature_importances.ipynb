{
 "cells": [
  {
   "cell_type": "code",
   "execution_count": 1,
   "metadata": {
    "execution": {
     "iopub.execute_input": "2020-10-02T09:49:27.299503Z",
     "iopub.status.busy": "2020-10-02T09:49:27.298628Z",
     "iopub.status.idle": "2020-10-02T09:49:28.786817Z",
     "shell.execute_reply": "2020-10-02T09:49:28.787734Z"
    }
   },
   "outputs": [],
   "source": [
    "import pandas as pd\n",
    "import numpy as np\n",
    "import os\n",
    "from glob import glob\n",
    "from sklearn.ensemble import RandomForestClassifier\n",
    "from sklearn.model_selection import train_test_split"
   ]
  },
  {
   "cell_type": "code",
   "execution_count": 2,
   "metadata": {
    "execution": {
     "iopub.execute_input": "2020-10-02T09:49:28.792864Z",
     "iopub.status.busy": "2020-10-02T09:49:28.792068Z",
     "iopub.status.idle": "2020-10-02T09:49:29.188819Z",
     "shell.execute_reply": "2020-10-02T09:49:29.189718Z"
    }
   },
   "outputs": [],
   "source": [
    "from sklearn.metrics import classification_report\n",
    "from display_results import confusion_matrix"
   ]
  },
  {
   "cell_type": "code",
   "execution_count": 3,
   "metadata": {
    "execution": {
     "iopub.execute_input": "2020-10-02T09:49:29.196020Z",
     "iopub.status.busy": "2020-10-02T09:49:29.195010Z",
     "iopub.status.idle": "2020-10-02T09:49:29.201693Z",
     "shell.execute_reply": "2020-10-02T09:49:29.200855Z"
    }
   },
   "outputs": [],
   "source": [
    "df_activity = pd.read_csv(\"activities.csv\")"
   ]
  },
  {
   "cell_type": "code",
   "execution_count": 4,
   "metadata": {
    "execution": {
     "iopub.execute_input": "2020-10-02T09:49:29.208489Z",
     "iopub.status.busy": "2020-10-02T09:49:29.207591Z",
     "iopub.status.idle": "2020-10-02T09:49:29.210093Z",
     "shell.execute_reply": "2020-10-02T09:49:29.211026Z"
    }
   },
   "outputs": [],
   "source": [
    "def segmentation(x_data,y,overlap_rate,time_window):\n",
    "    \n",
    "    seg_data = []\n",
    "    overlap = int((1 - overlap_rate)*time_window)\n",
    "    y_segmented_list = []\n",
    "    \n",
    "    for i in range(0,x_data.shape[0],overlap):\n",
    "        seg_data.append(x_data[i:i+time_window])\n",
    "        y_segmented_list.append(y)\n",
    "\n",
    "    return seg_data,y_segmented_list"
   ]
  },
  {
   "cell_type": "code",
   "execution_count": 5,
   "metadata": {
    "execution": {
     "iopub.execute_input": "2020-10-02T09:49:29.217060Z",
     "iopub.status.busy": "2020-10-02T09:49:29.216256Z",
     "iopub.status.idle": "2020-10-02T09:49:29.218479Z",
     "shell.execute_reply": "2020-10-02T09:49:29.219311Z"
    }
   },
   "outputs": [],
   "source": [
    "def handle_missing_values(df):\n",
    "    df['x']=df['x'].replace(0, np.nan)\n",
    "    df['y']=df['y'].replace(0, np.nan)\n",
    "    df['z']=df['z'].replace(0, np.nan)\n",
    "    return df"
   ]
  },
  {
   "cell_type": "code",
   "execution_count": 6,
   "metadata": {
    "execution": {
     "iopub.execute_input": "2020-10-02T09:49:29.224626Z",
     "iopub.status.busy": "2020-10-02T09:49:29.223759Z",
     "iopub.status.idle": "2020-10-02T09:49:29.226084Z",
     "shell.execute_reply": "2020-10-02T09:49:29.226919Z"
    }
   },
   "outputs": [],
   "source": [
    "def get_act_id(seg_id):\n",
    "    seg = df_activity[df_activity[\"segment_id\"]==seg_id]\n",
    "    activity_id = seg[\"activity_id\"].values\n",
    "    return int(activity_id)"
   ]
  },
  {
   "cell_type": "code",
   "execution_count": 7,
   "metadata": {
    "execution": {
     "iopub.execute_input": "2020-10-02T09:49:29.233358Z",
     "iopub.status.busy": "2020-10-02T09:49:29.232560Z",
     "iopub.status.idle": "2020-10-02T09:49:29.234791Z",
     "shell.execute_reply": "2020-10-02T09:49:29.235617Z"
    }
   },
   "outputs": [],
   "source": [
    "def load_data(csv_file):\n",
    "\n",
    "    y_list = []\n",
    "    x_data_list = []\n",
    "\n",
    "    csv_df = pd.read_csv(csv_file)\n",
    "    csv_df = handle_missing_values(csv_df)\n",
    "    csv_df.dropna(inplace=True)\n",
    "    x_data = csv_df.values\n",
    "    act_id = get_act_id(int(os.path.splitext(os.path.basename(csv_file))[0].replace(\"segment\",\"\")))\n",
    "    \n",
    "    return x_data,act_id"
   ]
  },
  {
   "cell_type": "code",
   "execution_count": 8,
   "metadata": {
    "execution": {
     "iopub.execute_input": "2020-10-02T09:49:29.242403Z",
     "iopub.status.busy": "2020-10-02T09:49:29.241597Z",
     "iopub.status.idle": "2020-10-02T09:49:29.243892Z",
     "shell.execute_reply": "2020-10-02T09:49:29.244745Z"
    }
   },
   "outputs": [],
   "source": [
    "def get_features(x_data):\n",
    "    features = []\n",
    "    for i in range(x_data.shape[1]):\n",
    "        # std\n",
    "        features.append(x_data.T[i].std(ddof=0))\n",
    "        # avg\n",
    "        features.append(np.average(x_data.T[i]))\n",
    "        # max\n",
    "        features.append(np.max(x_data.T[i]))\n",
    "        # min\n",
    "        features.append(np.min(x_data.T[i]))\n",
    "    return features"
   ]
  },
  {
   "cell_type": "code",
   "execution_count": 9,
   "metadata": {
    "execution": {
     "iopub.execute_input": "2020-10-02T09:49:29.249419Z",
     "iopub.status.busy": "2020-10-02T09:49:29.248545Z",
     "iopub.status.idle": "2020-10-02T09:49:29.252385Z",
     "shell.execute_reply": "2020-10-02T09:49:29.253266Z"
    }
   },
   "outputs": [],
   "source": [
    "csv_files = glob(\"train/*\")"
   ]
  },
  {
   "cell_type": "code",
   "execution_count": 10,
   "metadata": {
    "execution": {
     "iopub.execute_input": "2020-10-02T09:49:29.259769Z",
     "iopub.status.busy": "2020-10-02T09:49:29.258858Z",
     "iopub.status.idle": "2020-10-02T09:49:30.217854Z",
     "shell.execute_reply": "2020-10-02T09:49:30.218826Z"
    }
   },
   "outputs": [],
   "source": [
    "X_feature_data_list = []\n",
    "y_list = []\n",
    "for csv_file in csv_files:\n",
    "    x,y = load_data(csv_file)\n",
    "    X_feature_data_list.append(get_features(x))\n",
    "    y_list.append(y)"
   ]
  },
  {
   "cell_type": "code",
   "execution_count": 11,
   "metadata": {
    "execution": {
     "iopub.execute_input": "2020-10-02T09:49:30.226708Z",
     "iopub.status.busy": "2020-10-02T09:49:30.225161Z",
     "iopub.status.idle": "2020-10-02T09:49:30.228200Z",
     "shell.execute_reply": "2020-10-02T09:49:30.229339Z"
    }
   },
   "outputs": [],
   "source": [
    "X_train,X_test,y_train,y_test = train_test_split(X_feature_data_list,y_list,test_size=0.3)"
   ]
  },
  {
   "cell_type": "code",
   "execution_count": 12,
   "metadata": {
    "execution": {
     "iopub.execute_input": "2020-10-02T09:49:30.236227Z",
     "iopub.status.busy": "2020-10-02T09:49:30.234926Z",
     "iopub.status.idle": "2020-10-02T09:49:30.239458Z",
     "shell.execute_reply": "2020-10-02T09:49:30.238722Z"
    }
   },
   "outputs": [],
   "source": [
    "model_ml = RandomForestClassifier(n_estimators=500,n_jobs=-1)"
   ]
  },
  {
   "cell_type": "code",
   "execution_count": 13,
   "metadata": {
    "execution": {
     "iopub.execute_input": "2020-10-02T09:49:30.295686Z",
     "iopub.status.busy": "2020-10-02T09:49:30.294664Z",
     "iopub.status.idle": "2020-10-02T09:49:31.919859Z",
     "shell.execute_reply": "2020-10-02T09:49:31.920827Z"
    }
   },
   "outputs": [],
   "source": [
    "model_ml.fit(X_train,y_train)\n",
    "y_predict = model_ml.predict(X_test)"
   ]
  },
  {
   "cell_type": "code",
   "execution_count": 14,
   "metadata": {
    "execution": {
     "iopub.execute_input": "2020-10-02T09:49:31.927225Z",
     "iopub.status.busy": "2020-10-02T09:49:31.926283Z",
     "iopub.status.idle": "2020-10-02T09:49:31.936374Z",
     "shell.execute_reply": "2020-10-02T09:49:31.937326Z"
    }
   },
   "outputs": [
    {
     "name": "stdout",
     "output_type": "stream",
     "text": [
      "              precision    recall  f1-score   support\n",
      "\n",
      "           2       0.60      0.60      0.60        10\n",
      "           3       0.75      0.82      0.78        11\n",
      "           4       0.80      0.36      0.50        11\n",
      "           6       1.00      0.71      0.83         7\n",
      "           9       0.75      0.86      0.80         7\n",
      "          12       0.50      0.88      0.64         8\n",
      "\n",
      "    accuracy                           0.69        54\n",
      "   macro avg       0.73      0.70      0.69        54\n",
      "weighted avg       0.73      0.69      0.68        54\n",
      "\n"
     ]
    }
   ],
   "source": [
    "print(classification_report(y_test,y_predict))"
   ]
  },
  {
   "cell_type": "code",
   "execution_count": 15,
   "metadata": {
    "execution": {
     "iopub.execute_input": "2020-10-02T09:49:32.005144Z",
     "iopub.status.busy": "2020-10-02T09:49:31.999192Z",
     "iopub.status.idle": "2020-10-02T09:49:32.898230Z",
     "shell.execute_reply": "2020-10-02T09:49:32.899133Z"
    }
   },
   "outputs": [
    {
     "data": {
      "image/png": "[encoded data removed]",
      "text/plain": [
       "<Figure size 864x576 with 2 Axes>"
      ]
     },
     "metadata": {
      "needs_background": "light"
     },
     "output_type": "display_data"
    },
    {
     "name": "stdout",
     "output_type": "stream",
     "text": [
      "None\n"
     ]
    }
   ],
   "source": [
    "print(confusion_matrix(y_test, y_predict))"
   ]
  },
  {
   "cell_type": "code",
   "execution_count": 16,
   "metadata": {
    "execution": {
     "iopub.execute_input": "2020-10-02T09:49:32.905308Z",
     "iopub.status.busy": "2020-10-02T09:49:32.904227Z",
     "iopub.status.idle": "2020-10-02T09:49:32.907574Z",
     "shell.execute_reply": "2020-10-02T09:49:32.906570Z"
    }
   },
   "outputs": [],
   "source": [
    "feature_labels = [a+\"_\"+feature for a in [\"x\",\"y\",\"z\"]  for feature in [\"std\",\"avg\",\"max\",\"min\"] ]"
   ]
  },
  {
   "cell_type": "code",
   "execution_count": 17,
   "metadata": {
    "execution": {
     "iopub.execute_input": "2020-10-02T09:49:32.913738Z",
     "iopub.status.busy": "2020-10-02T09:49:32.912814Z",
     "iopub.status.idle": "2020-10-02T09:49:33.121056Z",
     "shell.execute_reply": "2020-10-02T09:49:33.122032Z"
    }
   },
   "outputs": [],
   "source": [
    "importances = model_ml.feature_importances_  \n",
    "indices = np.argsort(importances)[::-1]"
   ]
  },
  {
   "cell_type": "code",
   "execution_count": 18,
   "metadata": {
    "execution": {
     "iopub.execute_input": "2020-10-02T09:49:33.128365Z",
     "iopub.status.busy": "2020-10-02T09:49:33.127384Z",
     "iopub.status.idle": "2020-10-02T09:49:33.131967Z",
     "shell.execute_reply": "2020-10-02T09:49:33.131115Z"
    }
   },
   "outputs": [
    {
     "name": "stdout",
     "output_type": "stream",
     "text": [
      " 1) y_max 0.141019\n",
      " 2) z_std 0.101813\n",
      " 3) x_std 0.101190\n",
      " 4) y_std 0.096562\n",
      " 5) y_avg 0.091747\n",
      " 6) z_avg 0.087049\n",
      " 7) x_avg 0.079255\n",
      " 8) z_max 0.072490\n",
      " 9) x_max 0.068441\n",
      "10) z_min 0.056633\n",
      "11) x_min 0.054204\n",
      "12) y_min 0.049597\n"
     ]
    }
   ],
   "source": [
    "for f in range(np.array(X_train).shape[1]):\n",
    "    print(\"%2d) %s %f\" % (f + 1,feature_labels[indices[f]],importances[indices[f]]))"
   ]
  }
 ],
 "metadata": {
  "kernelspec": {
   "display_name": "Python 3",
   "language": "python",
   "name": "python3"
  },
  "language_info": {
   "codemirror_mode": {
    "name": "ipython",
    "version": 3
   },
   "file_extension": ".py",
   "mimetype": "text/x-python",
   "name": "python",
   "nbconvert_exporter": "python",
   "pygments_lexer": "ipython3",
   "version": "3.7.2"
  }
 },
 "nbformat": 4,
 "nbformat_minor": 2
}
