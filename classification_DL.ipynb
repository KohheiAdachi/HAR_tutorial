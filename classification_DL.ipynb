{
 "cells": [
  {
   "cell_type": "code",
   "execution_count": 1,
   "metadata": {
    "execution": {
     "iopub.execute_input": "2020-10-02T09:49:01.596529Z",
     "iopub.status.busy": "2020-10-02T09:49:01.595686Z",
     "iopub.status.idle": "2020-10-02T09:49:07.491195Z",
     "shell.execute_reply": "2020-10-02T09:49:07.492241Z"
    }
   },
   "outputs": [],
   "source": [
    "import pandas as pd\n",
    "import numpy as np\n",
    "import os\n",
    "from glob import glob\n",
    "from keras.models import Sequential\n",
    "from keras.layers import Dense\n",
    "from keras.layers import Flatten\n",
    "from keras.layers import Dropout\n",
    "from keras.layers.convolutional import Conv1D\n",
    "from keras.layers.convolutional import MaxPooling1D\n",
    "from keras.utils import to_categorical\n",
    "# from sklearn.ensemble import RandomForestClassifier\n",
    "from sklearn.model_selection import train_test_split\n",
    "import matplotlib.pyplot as plt\n",
    "import seaborn as sns"
   ]
  },
  {
   "cell_type": "code",
   "execution_count": 2,
   "metadata": {
    "execution": {
     "iopub.execute_input": "2020-10-02T09:49:07.497750Z",
     "iopub.status.busy": "2020-10-02T09:49:07.496819Z",
     "iopub.status.idle": "2020-10-02T09:49:07.499310Z",
     "shell.execute_reply": "2020-10-02T09:49:07.500179Z"
    }
   },
   "outputs": [],
   "source": [
    "from sklearn.metrics import classification_report,confusion_matrix\n",
    "# from display_results import confusion_matrix"
   ]
  },
  {
   "cell_type": "code",
   "execution_count": 3,
   "metadata": {
    "execution": {
     "iopub.execute_input": "2020-10-02T09:49:07.505883Z",
     "iopub.status.busy": "2020-10-02T09:49:07.504983Z",
     "iopub.status.idle": "2020-10-02T09:49:07.511975Z",
     "shell.execute_reply": "2020-10-02T09:49:07.512924Z"
    }
   },
   "outputs": [],
   "source": [
    "df_activity = pd.read_csv(\"activities.csv\")"
   ]
  },
  {
   "cell_type": "code",
   "execution_count": 4,
   "metadata": {
    "execution": {
     "iopub.execute_input": "2020-10-02T09:49:07.518819Z",
     "iopub.status.busy": "2020-10-02T09:49:07.517889Z",
     "iopub.status.idle": "2020-10-02T09:49:07.520331Z",
     "shell.execute_reply": "2020-10-02T09:49:07.521210Z"
    }
   },
   "outputs": [],
   "source": [
    "def get_activity_id(seg_id):\n",
    "    seg = df_activity[df_activity[\"segment_id\"]==seg_id]\n",
    "    activity_id = seg[\"activity_id\"].values\n",
    "    return int(activity_id)"
   ]
  },
  {
   "cell_type": "code",
   "execution_count": 5,
   "metadata": {
    "execution": {
     "iopub.execute_input": "2020-10-02T09:49:07.532366Z",
     "iopub.status.busy": "2020-10-02T09:49:07.531392Z",
     "iopub.status.idle": "2020-10-02T09:49:07.533696Z",
     "shell.execute_reply": "2020-10-02T09:49:07.534582Z"
    }
   },
   "outputs": [],
   "source": [
    "def segmentation(x_data,y,overlap_rate,time_window):\n",
    "    seg_data,y_segmented = [],[]\n",
    "    for x,y in zip(x_data,y):\n",
    "        seg_,y_= segmentation_(x,y,overlap_rate,time_window)\n",
    "        seg_data.extend(seg_)\n",
    "        y_segmented.extend(y_)\n",
    "    \n",
    "    return np.array(seg_data),np.array(y_segmented)\n",
    "\n",
    "def segmentation_(x_data,y,overlap_rate,time_window):\n",
    "    \n",
    "    x_data = np.array(x_data)\n",
    "    seg_data = []\n",
    "    overlap = int((1 - overlap_rate)*time_window)\n",
    "    y_segmented_list = []\n",
    "    \n",
    "    for i in range(0,x_data.shape[0],overlap):\n",
    "        if len(x_data[i:i+time_window]) == time_window:\n",
    "            seg_data.append(x_data[i:i+time_window])\n",
    "            y_segmented_list.append(y)\n",
    "            \n",
    "    return seg_data,y_segmented_list"
   ]
  },
  {
   "cell_type": "code",
   "execution_count": 6,
   "metadata": {
    "execution": {
     "iopub.execute_input": "2020-10-02T09:49:07.541288Z",
     "iopub.status.busy": "2020-10-02T09:49:07.540288Z",
     "iopub.status.idle": "2020-10-02T09:49:07.543334Z",
     "shell.execute_reply": "2020-10-02T09:49:07.544285Z"
    }
   },
   "outputs": [],
   "source": [
    "def handle_missing_values(df):\n",
    "    df['x']=df['x'].replace(0, np.nan)\n",
    "    df['y']=df['y'].replace(0, np.nan)\n",
    "    df['z']=df['z'].replace(0, np.nan)\n",
    "    return df"
   ]
  },
  {
   "cell_type": "code",
   "execution_count": 7,
   "metadata": {
    "execution": {
     "iopub.execute_input": "2020-10-02T09:49:07.550346Z",
     "iopub.status.busy": "2020-10-02T09:49:07.549469Z",
     "iopub.status.idle": "2020-10-02T09:49:07.552017Z",
     "shell.execute_reply": "2020-10-02T09:49:07.552904Z"
    }
   },
   "outputs": [],
   "source": [
    "def get_act_id(seg_id):\n",
    "    seg = df_activity[df_activity[\"segment_id\"]==seg_id]\n",
    "    activity_id = seg[\"activity_id\"].values\n",
    "    return int(activity_id)"
   ]
  },
  {
   "cell_type": "code",
   "execution_count": 8,
   "metadata": {
    "execution": {
     "iopub.execute_input": "2020-10-02T09:49:07.561964Z",
     "iopub.status.busy": "2020-10-02T09:49:07.560938Z",
     "iopub.status.idle": "2020-10-02T09:49:07.564291Z",
     "shell.execute_reply": "2020-10-02T09:49:07.565302Z"
    }
   },
   "outputs": [],
   "source": [
    "def load_data(csv_file):\n",
    "\n",
    "    y_list = []\n",
    "    x_data_list = []\n",
    "\n",
    "    csv_df = pd.read_csv(csv_file)\n",
    "    csv_df = handle_missing_values(csv_df)\n",
    "    csv_df.dropna(inplace=True)\n",
    "    x_data = csv_df.values\n",
    "    act_id = get_act_id(int(os.path.splitext(os.path.basename(csv_file))[0].replace(\"segment\",\"\")))\n",
    "    \n",
    "    return x_data,act_id"
   ]
  },
  {
   "cell_type": "code",
   "execution_count": 9,
   "metadata": {
    "execution": {
     "iopub.execute_input": "2020-10-02T09:49:07.570634Z",
     "iopub.status.busy": "2020-10-02T09:49:07.569668Z",
     "iopub.status.idle": "2020-10-02T09:49:07.572100Z",
     "shell.execute_reply": "2020-10-02T09:49:07.573065Z"
    }
   },
   "outputs": [],
   "source": [
    "# def get_features(x_data):\n",
    "#     features = []\n",
    "#     for i in range(x_data.shape[1]):\n",
    "#         # std\n",
    "#         features.append(x_data.T[i].std(ddof=0))\n",
    "#         # avg\n",
    "#         features.append(np.average(x_data.T[i]))\n",
    "#         # max\n",
    "#         features.append(np.max(x_data.T[i]))\n",
    "#         # min\n",
    "#         features.append(np.min(x_data.T[i]))\n",
    "#     return features"
   ]
  },
  {
   "cell_type": "code",
   "execution_count": 10,
   "metadata": {
    "execution": {
     "iopub.execute_input": "2020-10-02T09:49:07.578242Z",
     "iopub.status.busy": "2020-10-02T09:49:07.577420Z",
     "iopub.status.idle": "2020-10-02T09:49:07.579654Z",
     "shell.execute_reply": "2020-10-02T09:49:07.580492Z"
    }
   },
   "outputs": [],
   "source": [
    "def load_file(filepath):\n",
    "    dataframe = pd.read_csv(filepath)\n",
    "    return dataframe.values"
   ]
  },
  {
   "cell_type": "code",
   "execution_count": 11,
   "metadata": {
    "execution": {
     "iopub.execute_input": "2020-10-02T09:49:07.590842Z",
     "iopub.status.busy": "2020-10-02T09:49:07.589994Z",
     "iopub.status.idle": "2020-10-02T09:49:07.592315Z",
     "shell.execute_reply": "2020-10-02T09:49:07.593165Z"
    }
   },
   "outputs": [],
   "source": [
    "# fit and evaluate a model\n",
    "def evaluate_model(trainX, trainy, testX, testy):\n",
    "    verbose, epochs, batch_size = 1, 30, 32\n",
    "    n_timesteps, n_features, n_outputs = trainX.shape[1], trainX.shape[2], trainy.shape[1]\n",
    "    \n",
    "    model = Sequential()\n",
    "    model.add(Conv1D(filters=64, kernel_size=3, activation='relu', input_shape=(n_timesteps,n_features)))\n",
    "    model.add(Conv1D(filters=64, kernel_size=3, activation='relu'))\n",
    "    model.add(Dropout(0.5))\n",
    "    model.add(MaxPooling1D(pool_size=2))\n",
    "    model.add(Flatten())\n",
    "    model.add(Dense(100, activation='relu'))\n",
    "    model.add(Dense(n_outputs, activation='softmax'))\n",
    "    model.compile(loss='categorical_crossentropy', optimizer='adam', metrics=['accuracy'])\n",
    "    \n",
    "    # fit network\n",
    "    history = model.fit(trainX, trainy, validation_data=(testX, testy), \n",
    "                        epochs=epochs, batch_size=batch_size, verbose=verbose)\n",
    "    \n",
    "    # evaluate model\n",
    "    _, accuracy = model.evaluate(testX, testy, batch_size=batch_size, verbose=1)\n",
    "    return accuracy, history, model"
   ]
  },
  {
   "cell_type": "code",
   "execution_count": 12,
   "metadata": {
    "execution": {
     "iopub.execute_input": "2020-10-02T09:49:07.598524Z",
     "iopub.status.busy": "2020-10-02T09:49:07.597657Z",
     "iopub.status.idle": "2020-10-02T09:49:07.600001Z",
     "shell.execute_reply": "2020-10-02T09:49:07.600844Z"
    }
   },
   "outputs": [],
   "source": [
    "# summarize scores\n",
    "def summarize_results(scores):\n",
    "    print('scores : ', scores)\n",
    "    m, s = np.mean(scores), np.std(scores)\n",
    "    print('Accuracy : %.3f%% (+/-%.3f)' % (m, s))"
   ]
  },
  {
   "cell_type": "code",
   "execution_count": 13,
   "metadata": {
    "execution": {
     "iopub.execute_input": "2020-10-02T09:49:07.610223Z",
     "iopub.status.busy": "2020-10-02T09:49:07.609267Z",
     "iopub.status.idle": "2020-10-02T09:49:07.611727Z",
     "shell.execute_reply": "2020-10-02T09:49:07.612632Z"
    }
   },
   "outputs": [],
   "source": [
    "def visualize(trainX, trainy, testX, testy, history, model):\n",
    "    \n",
    "#     plt.figure(figsize=(6, 4))\n",
    "#     plt.plot(history.history['acc'], 'r', label='Accuracy of training data')\n",
    "#     plt.plot(history.history['val_acc'], 'b', label='Accuracy of validation data')\n",
    "#     plt.plot(history.history['loss'], 'r--', label='Loss of training data')\n",
    "#     plt.plot(history.history['val_loss'], 'b--', label='Loss of validation data')\n",
    "#     plt.title('Model Accuracy and Loss')\n",
    "#     plt.ylabel('Accuracy and Loss')\n",
    "#     plt.xlabel('Training Epoch')\n",
    "#     plt.ylim(0)\n",
    "#     plt.legend()\n",
    "#     plt.savefig(\"cnn_acc_and_loss.png\")\n",
    "#     plt.show()\n",
    "\n",
    "    # Print confusion matrix for training data\n",
    "    y_pred_train = model.predict(trainX)\n",
    "    # Take the class with the highest probability from the train predictions\n",
    "    max_y_pred_train = np.argmax(y_pred_train, axis=1)\n",
    "    #print(classification_report(trainy, max_y_pred_train))\n",
    "    \n",
    "    # confusion matrix\n",
    "#     LABELS = ['VITAL_SIGNS_MEASUREMENTS',\n",
    "#           'BLOOD_COLLECTION',\n",
    "#           'BLOOD_GLUCOSE_MEASUREMENT',\n",
    "#           'INDWELLING_DRIP_RETENTION_AND_CONNECTION',\n",
    "#           'ORAL_CARE',\n",
    "#           'DIAPER_EXCHANGE_AND_CLEANING_OF_AREA']\n",
    "    LABELS = [\"ID:2\",\"ID:3\",\"ID:4\",\"ID:6\",\"ID:9\",\"ID:12\"]\n",
    "    y_pred_test = model.predict(testX)\n",
    "    # Take the class with the highest probability from the test predictions\n",
    "    max_y_pred_test = np.argmax(y_pred_test, axis=1)\n",
    "    max_y_test = np.argmax(testy, axis=1)\n",
    "\n",
    "    matrix = confusion_matrix(max_y_test, max_y_pred_test)\n",
    "    plt.figure(figsize=(12, 8))\n",
    "    sns.heatmap(matrix,\n",
    "                cmap='coolwarm',\n",
    "                linecolor='white',\n",
    "                linewidths=1,\n",
    "                xticklabels=LABELS,\n",
    "                yticklabels=LABELS,\n",
    "                annot=True,\n",
    "                fmt='d')\n",
    "    plt.title('Confusion Matrix')\n",
    "    plt.ylabel('True Label')\n",
    "    plt.xlabel('Predicted Label')"
   ]
  },
  {
   "cell_type": "code",
   "execution_count": 14,
   "metadata": {
    "execution": {
     "iopub.execute_input": "2020-10-02T09:49:07.624479Z",
     "iopub.status.busy": "2020-10-02T09:49:07.623482Z",
     "iopub.status.idle": "2020-10-02T09:49:07.626163Z",
     "shell.execute_reply": "2020-10-02T09:49:07.627306Z"
    }
   },
   "outputs": [],
   "source": [
    "# load the dataset, returns train and test X and y elements\n",
    "def load_dataset():\n",
    "    \n",
    "    data_sets = []\n",
    "    labels = []\n",
    "    # load all train\n",
    "    acc_csv_files =  glob(\"train/*\")\n",
    "    for acc_csv_file in acc_csv_files:\n",
    "        data_sets.append(load_file(acc_csv_file))\n",
    "        file_name = os.path.basename(acc_csv_file)\n",
    "        seg_id = os.path.splitext(file_name)[0].replace(\"segment\",\"\")\n",
    "        activity_id = get_activity_id(int(seg_id))\n",
    "        labels.append(activity_id)\n",
    "    \n",
    "    labels = np.array(labels)\n",
    "    # split \n",
    "    train_X,test_X,train_y,test_y = train_test_split(data_sets,labels,test_size=0.2,random_state=1)\n",
    "#     # sampling \n",
    "#     train_sampling_data,train_label = Samplings(train_X,train_y,n=50,window_size=60)\n",
    "#     test_sampling_data,test_label = Samplings(test_X,test_y,n=50,window_size=60)\n",
    "    # segmentation\n",
    "#     print(\"number of test x\",len(test_X))\n",
    "#     print(\"lenght of test x\",len(test_X[0]))\n",
    "#     print(test_y)\n",
    "    train_segmented_data,y_train_segemented = segmentation(train_X,train_y,overlap_rate=0.5,time_window=60)\n",
    "    \n",
    "    test_segmented_data,y_test_segemented = segmentation(test_X,test_y,overlap_rate=0.5,time_window=60)\n",
    "#     print(y_train_segemented)\n",
    "#     print(y_test_segemented)\n",
    "    # one hot encode y\n",
    "    trainy = to_categorical(y_train_segemented )\n",
    "    testy = to_categorical(y_test_segemented)\n",
    "    print('trainX.shape : ', train_segmented_data.shape)\n",
    "    print('trainy.shape : ', y_train_segemented.shape)\n",
    "    print('testX.shape : ', test_segmented_data.shape)\n",
    "    print('testy.shape : ', y_test_segemented.shape)\n",
    "    return train_segmented_data, trainy, test_segmented_data, testy "
   ]
  },
  {
   "cell_type": "code",
   "execution_count": 15,
   "metadata": {
    "execution": {
     "iopub.execute_input": "2020-10-02T09:49:07.632518Z",
     "iopub.status.busy": "2020-10-02T09:49:07.631616Z",
     "iopub.status.idle": "2020-10-02T09:49:08.209590Z",
     "shell.execute_reply": "2020-10-02T09:49:08.210560Z"
    }
   },
   "outputs": [
    {
     "name": "stdout",
     "output_type": "stream",
     "text": [
      "trainX.shape :  (430, 60, 3)\n",
      "trainy.shape :  (430,)\n",
      "testX.shape :  (100, 60, 3)\n",
      "testy.shape :  (100,)\n"
     ]
    }
   ],
   "source": [
    "train_data,_,test,_ = load_dataset()"
   ]
  },
  {
   "cell_type": "code",
   "execution_count": 16,
   "metadata": {
    "execution": {
     "iopub.execute_input": "2020-10-02T09:49:08.219046Z",
     "iopub.status.busy": "2020-10-02T09:49:08.218120Z",
     "iopub.status.idle": "2020-10-02T09:49:08.220384Z",
     "shell.execute_reply": "2020-10-02T09:49:08.221301Z"
    }
   },
   "outputs": [],
   "source": [
    "# run an experiment\n",
    "def run_experiment(repeats =1):\n",
    "    # load data\n",
    "    trainX, trainy, testX, testy = load_dataset()\n",
    "#     print(testX.shape)\n",
    "#     print(trainy.shape)\n",
    "    # repeat experiment\n",
    "    \n",
    "    scores = list()\n",
    "    for r in range(repeats):\n",
    "        score, history, model = evaluate_model(trainX, trainy, testX, testy)\n",
    "        score = score * 100.0\n",
    "        print('>#%d: %.3f' % (r+1, score))\n",
    "        scores.append(score)\n",
    "        # summarize results\n",
    "    summarize_results(scores)\n",
    "    visualize(trainX, trainy, testX, testy, history, model)"
   ]
  },
  {
   "cell_type": "code",
   "execution_count": 17,
   "metadata": {
    "execution": {
     "iopub.execute_input": "2020-10-02T09:49:08.225837Z",
     "iopub.status.busy": "2020-10-02T09:49:08.225013Z",
     "iopub.status.idle": "2020-10-02T09:49:15.771653Z",
     "shell.execute_reply": "2020-10-02T09:49:15.772904Z"
    },
    "scrolled": false
   },
   "outputs": [
    {
     "name": "stdout",
     "output_type": "stream",
     "text": [
      "trainX.shape :  (430, 60, 3)\n",
      "trainy.shape :  (430,)\n",
      "testX.shape :  (100, 60, 3)\n",
      "testy.shape :  (100,)\n",
      "Epoch 1/30\n",
      "14/14 [==============================] - 0s 24ms/step - loss: 2.1321 - accuracy: 0.2465 - val_loss: 1.7278 - val_accuracy: 0.3000\n",
      "Epoch 2/30\n",
      "14/14 [==============================] - 0s 11ms/step - loss: 1.5016 - accuracy: 0.4186 - val_loss: 1.5600 - val_accuracy: 0.3300\n",
      "Epoch 3/30\n",
      "14/14 [==============================] - 0s 10ms/step - loss: 1.3004 - accuracy: 0.5140 - val_loss: 1.5100 - val_accuracy: 0.3500\n",
      "Epoch 4/30\n",
      "14/14 [==============================] - 0s 9ms/step - loss: 1.1744 - accuracy: 0.5674 - val_loss: 1.4456 - val_accuracy: 0.3900\n",
      "Epoch 5/30\n",
      "14/14 [==============================] - 0s 9ms/step - loss: 1.0515 - accuracy: 0.6140 - val_loss: 1.4652 - val_accuracy: 0.4100\n",
      "Epoch 6/30\n",
      "14/14 [==============================] - 0s 10ms/step - loss: 0.9813 - accuracy: 0.6302 - val_loss: 1.3933 - val_accuracy: 0.4800\n",
      "Epoch 7/30\n",
      "14/14 [==============================] - 0s 10ms/step - loss: 0.8839 - accuracy: 0.6651 - val_loss: 1.3586 - val_accuracy: 0.5100\n",
      "Epoch 8/30\n",
      "14/14 [==============================] - 0s 9ms/step - loss: 0.7745 - accuracy: 0.7047 - val_loss: 1.3143 - val_accuracy: 0.4800\n",
      "Epoch 9/30\n",
      "14/14 [==============================] - 0s 9ms/step - loss: 0.6922 - accuracy: 0.7442 - val_loss: 1.3960 - val_accuracy: 0.4800\n",
      "Epoch 10/30\n",
      "14/14 [==============================] - 0s 9ms/step - loss: 0.6337 - accuracy: 0.7791 - val_loss: 1.2837 - val_accuracy: 0.5200\n",
      "Epoch 11/30\n",
      "14/14 [==============================] - 0s 9ms/step - loss: 0.5678 - accuracy: 0.7767 - val_loss: 1.2962 - val_accuracy: 0.5300\n",
      "Epoch 12/30\n",
      "14/14 [==============================] - 0s 9ms/step - loss: 0.5471 - accuracy: 0.7860 - val_loss: 1.2680 - val_accuracy: 0.5800\n",
      "Epoch 13/30\n",
      "14/14 [==============================] - 0s 9ms/step - loss: 0.5042 - accuracy: 0.8279 - val_loss: 1.5523 - val_accuracy: 0.4700\n",
      "Epoch 14/30\n",
      "14/14 [==============================] - 0s 9ms/step - loss: 0.4497 - accuracy: 0.8581 - val_loss: 1.3853 - val_accuracy: 0.5100\n",
      "Epoch 15/30\n",
      "14/14 [==============================] - 0s 9ms/step - loss: 0.3698 - accuracy: 0.8814 - val_loss: 1.3814 - val_accuracy: 0.5700\n",
      "Epoch 16/30\n",
      "14/14 [==============================] - 0s 10ms/step - loss: 0.3354 - accuracy: 0.8791 - val_loss: 1.4349 - val_accuracy: 0.5300\n",
      "Epoch 17/30\n",
      "14/14 [==============================] - 0s 9ms/step - loss: 0.2849 - accuracy: 0.8977 - val_loss: 1.3795 - val_accuracy: 0.5600\n",
      "Epoch 18/30\n",
      "14/14 [==============================] - 0s 13ms/step - loss: 0.2686 - accuracy: 0.9186 - val_loss: 1.5380 - val_accuracy: 0.5300\n",
      "Epoch 19/30\n",
      "14/14 [==============================] - 0s 13ms/step - loss: 0.2595 - accuracy: 0.9093 - val_loss: 1.4480 - val_accuracy: 0.5100\n",
      "Epoch 20/30\n",
      "14/14 [==============================] - 0s 11ms/step - loss: 0.2454 - accuracy: 0.9163 - val_loss: 1.6110 - val_accuracy: 0.4800\n",
      "Epoch 21/30\n",
      "14/14 [==============================] - 0s 12ms/step - loss: 0.2514 - accuracy: 0.9186 - val_loss: 1.6258 - val_accuracy: 0.5100\n",
      "Epoch 22/30\n",
      "14/14 [==============================] - 0s 11ms/step - loss: 0.2474 - accuracy: 0.9140 - val_loss: 1.7641 - val_accuracy: 0.5400\n",
      "Epoch 23/30\n",
      "14/14 [==============================] - 0s 10ms/step - loss: 0.2221 - accuracy: 0.9209 - val_loss: 1.8139 - val_accuracy: 0.4800\n",
      "Epoch 24/30\n",
      "14/14 [==============================] - 0s 9ms/step - loss: 0.1656 - accuracy: 0.9628 - val_loss: 1.9311 - val_accuracy: 0.5200\n",
      "Epoch 25/30\n",
      "14/14 [==============================] - 0s 9ms/step - loss: 0.1599 - accuracy: 0.9442 - val_loss: 1.9172 - val_accuracy: 0.5400\n",
      "Epoch 26/30\n",
      "14/14 [==============================] - 0s 8ms/step - loss: 0.1593 - accuracy: 0.9488 - val_loss: 1.8541 - val_accuracy: 0.5000\n",
      "Epoch 27/30\n",
      "14/14 [==============================] - 0s 9ms/step - loss: 0.1642 - accuracy: 0.9395 - val_loss: 2.0772 - val_accuracy: 0.4700\n",
      "Epoch 28/30\n",
      "14/14 [==============================] - 0s 9ms/step - loss: 0.1591 - accuracy: 0.9488 - val_loss: 1.8033 - val_accuracy: 0.5700\n",
      "Epoch 29/30\n",
      "14/14 [==============================] - 0s 9ms/step - loss: 0.1335 - accuracy: 0.9605 - val_loss: 2.0885 - val_accuracy: 0.5100\n",
      "Epoch 30/30\n",
      "14/14 [==============================] - 0s 9ms/step - loss: 0.1061 - accuracy: 0.9698 - val_loss: 2.0600 - val_accuracy: 0.5300\n",
      "4/4 [==============================] - 0s 2ms/step - loss: 2.0600 - accuracy: 0.5300\n",
      ">#1: 53.000\n",
      "scores :  [52.99999713897705]\n",
      "Accuracy : 53.000% (+/-0.000)\n"
     ]
    },
    {
     "data": {
      "image/png": "[encoded data removed]",
      "text/plain": [
       "<Figure size 864x576 with 2 Axes>"
      ]
     },
     "metadata": {
      "needs_background": "light"
     },
     "output_type": "display_data"
    }
   ],
   "source": [
    "run_experiment()"
   ]
  }
 ],
 "metadata": {
  "kernelspec": {
   "display_name": "Python 3",
   "language": "python",
   "name": "python3"
  },
  "language_info": {
   "codemirror_mode": {
    "name": "ipython",
    "version": 3
   },
   "file_extension": ".py",
   "mimetype": "text/x-python",
   "name": "python",
   "nbconvert_exporter": "python",
   "pygments_lexer": "ipython3",
   "version": "3.7.2"
  }
 },
 "nbformat": 4,
 "nbformat_minor": 2
}
